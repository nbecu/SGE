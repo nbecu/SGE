{
 "cells": [
  {
   "attachments": {},
   "cell_type": "markdown",
   "metadata": {},
   "source": [
    "#### A to Z Examples : Documentation"
   ]
  },
  {
   "attachments": {},
   "cell_type": "markdown",
   "metadata": {},
   "source": [
    "<font size= '2'>---\n",
    "##### 1. About Points of View (POV)\n",
    "##### 1.0 Introduction to POV\n",
    "- setUpPov explanation\n",
    "- Color association to landUse\n",
    "\n",
    "##### 1.1 Initial POV\n",
    "- How to set an initial POV\n",
    "- Default case\n",
    "\n",
    "##### 1.2 Different POVs\n",
    "- User can change the vision of the same elements for differents POV\n",
    "\n",
    "---\n",
    "\n",
    "##### 2. About Legend (+ Player *temporary*)\n",
    "##### 2.0 Introduction \n",
    "- Create an Admin Legend\n",
    "\n",
    "##### 2.1 Player Legend\n",
    "- How to create a player (temporary)\n",
    "- How to create a legend for the player\n",
    "\n",
    "##### 2.2 Switch legends\n",
    "- How to switch between Admin and player\n",
    "\n",
    "--- \n",
    "\n",
    "##### 3. Grid Customization \n",
    "##### 3.0 Cell shape\n",
    "- Hexagonal and Square Cells\n",
    "\n",
    "##### 3.1 Grid size\n",
    "- Colums and rows change\n",
    "\n",
    "##### 3.2 Moveable grid\n",
    "- Introduction of moveable True/False\n",
    "\n",
    "##### 3.3 A complete example\n",
    "\n",
    "---\n",
    "\n",
    "\n",
    "\n",
    "\n",
    "\n",
    "\n",
    "</font>"
   ]
  }
 ],
 "metadata": {
  "kernelspec": {
   "display_name": "Python 3",
   "language": "python",
   "name": "python3"
  },
  "language_info": {
   "name": "python",
   "version": "3.10.10"
  },
  "orig_nbformat": 4,
  "vscode": {
   "interpreter": {
    "hash": "10b8e2acffbbd14f3c5c0273a1e3dc38b89318cbc5ba43db4ff51d329ce4778f"
   }
  }
 },
 "nbformat": 4,
 "nbformat_minor": 2
}
